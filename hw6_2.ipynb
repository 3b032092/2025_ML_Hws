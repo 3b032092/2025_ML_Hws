{
  "nbformat": 4,
  "nbformat_minor": 0,
  "metadata": {
    "colab": {
      "provenance": [],
      "authorship_tag": "ABX9TyMZWGY0d6DzuBCTQW5cAyoT",
      "include_colab_link": true
    },
    "kernelspec": {
      "name": "python3",
      "display_name": "Python 3"
    },
    "language_info": {
      "name": "python"
    }
  },
  "cells": [
    {
      "cell_type": "markdown",
      "metadata": {
        "id": "view-in-github",
        "colab_type": "text"
      },
      "source": [
        "<a href=\"https://colab.research.google.com/github/3b032092/2025_ML_Hws/blob/main/hw6_2.ipynb\" target=\"_parent\"><img src=\"https://colab.research.google.com/assets/colab-badge.svg\" alt=\"Open In Colab\"/></a>"
      ]
    },
    {
      "cell_type": "markdown",
      "source": [
        "#第二題"
      ],
      "metadata": {
        "id": "8GMurwbRuehD"
      }
    },
    {
      "cell_type": "code",
      "source": [
        "import numpy as np\n",
        "\n",
        "x1 = np.array([0.1, 0.2, 0.3])\n",
        "x2 = np.array([0.4, 0.5, 0.6])\n",
        "x3 = np.array([0.7, 0.8, 0.9])\n",
        "\n",
        "Wx = np.array([\n",
        "    [0.1, 0.2, 0.3, 0.4],\n",
        "    [0.5, 0.6, 0.7, 0.8],\n",
        "    [0.9, 1.0, 1.1, 1.2]\n",
        "])\n",
        "\n",
        "Wh = np.array([\n",
        "    [0.1, 0.2, 0.3, 0.4],\n",
        "    [0.5, 0.6, 0.7, 0.8],\n",
        "    [0.9, 1.0, 1.1, 1.2],\n",
        "    [1.3, 1.4, 1.5, 1.6]\n",
        "])\n",
        "\n",
        "b = np.array([0.1, 0.1, 0.1, 0.1])\n",
        "\n",
        "h0 = np.zeros(4)\n",
        "\n",
        "def rnn_step(x_t, h_prev):\n",
        "    return np.tanh(np.dot(x_t, Wx) + np.dot(h_prev, Wh) + b)\n",
        "\n",
        "# 計算 h1, h2, h3\n",
        "h1 = rnn_step(x1, h0)\n",
        "h2 = rnn_step(x2, h1)\n",
        "h3 = rnn_step(x3, h2)\n",
        "\n",
        "print(\"h1 =\", h1)\n",
        "print(\"h2 =\", h2)\n",
        "print(\"h3 =\", h3)\n"
      ],
      "metadata": {
        "colab": {
          "base_uri": "https://localhost:8080/"
        },
        "id": "5jiCiLH6uiSQ",
        "outputId": "b59d62a2-a1db-4968-fc84-1ffacec47b7f"
      },
      "execution_count": 1,
      "outputs": [
        {
          "output_type": "stream",
          "name": "stdout",
          "text": [
            "h1 = [0.44624361 0.49298797 0.53704957 0.57836341]\n",
            "h2 = [0.98540169 0.99280276 0.99645832 0.9982588 ]\n",
            "h3 = [0.99952208 0.99986638 0.99996264 0.99998956]\n"
          ]
        }
      ]
    },
    {
      "cell_type": "markdown",
      "source": [
        "#第三題"
      ],
      "metadata": {
        "id": "mZworRUZuxx1"
      }
    },
    {
      "cell_type": "code",
      "source": [
        "S3 = np.array([2, 5, 3, 1])\n",
        "\n",
        "e1 = np.dot(S3, h1)\n",
        "e2 = np.dot(S3, h2)\n",
        "e3 = np.dot(S3, h3)\n",
        "\n",
        "e = np.array([e1, e2, e3])\n",
        "\n",
        "def softmax(x):\n",
        "    exp_x = np.exp(x - np.max(x))\n",
        "    return exp_x / np.sum(exp_x)\n",
        "\n",
        "alpha = softmax(e)\n",
        "alpha1, alpha2, alpha3 = alpha\n",
        "\n",
        "c3 = alpha1 * h1 + alpha2 * h2 + alpha3 * h3\n",
        "\n",
        "print(\"注意力強度 e =\", e)\n",
        "print(\"注意力分數 α =\", alpha)\n",
        "print(\"Context 向量 c3 =\", c3)\n"
      ],
      "metadata": {
        "colab": {
          "base_uri": "https://localhost:8080/"
        },
        "id": "DFIhl-CNu0BA",
        "outputId": "c7beb2e4-6377-4a4d-a768-c7dcbe486412"
      },
      "execution_count": 2,
      "outputs": [
        {
          "output_type": "stream",
          "name": "stdout",
          "text": [
            "注意力強度 e = [ 5.54693917 10.92245094 10.99825354]\n",
            "注意力分數 α = [0.00222166 0.47998967 0.51778867]\n",
            "Context 向量 c3 = [0.99151525 0.9953498  0.99725217 0.9982221 ]\n"
          ]
        }
      ]
    },
    {
      "cell_type": "markdown",
      "source": [
        "#第四題"
      ],
      "metadata": {
        "id": "EUZbCmBFvQo6"
      }
    },
    {
      "cell_type": "code",
      "source": [
        "import numpy as np\n",
        "\n",
        "x1 = np.array([1, 0, 1])\n",
        "x2 = np.array([0, 1, 1])\n",
        "x3 = np.array([1, 1, 0])\n",
        "\n",
        "X = np.array([x1, x2, x3])\n",
        "\n",
        "W_Q = np.array([[0, 2, 1],\n",
        "                [1, 0, 3],\n",
        "                [1, 0, 1]])\n",
        "\n",
        "W_K = np.array([[1, 1, 0],\n",
        "                [2, 1, 1],\n",
        "                [0, 1, 1]])\n",
        "\n",
        "W_V = np.array([[1, 0, 1],\n",
        "                [0, 1, 0],\n",
        "                [1, 1, 0]])\n",
        "\n",
        "Q = X @ W_Q\n",
        "K = X @ W_K\n",
        "V = X @ W_V\n",
        "\n",
        "print(\"Q =\", Q)\n",
        "print(\"K =\", K)\n",
        "print(\"V =\", V)\n",
        "\n",
        "d_k = K.shape[1]\n",
        "scores = Q @ K.T / np.sqrt(d_k)\n",
        "\n",
        "def softmax(x):\n",
        "    e_x = np.exp(x - np.max(x, axis=1, keepdims=True))  # prevent overflow\n",
        "    return e_x / np.sum(e_x, axis=1, keepdims=True)\n",
        "\n",
        "A = softmax(scores)\n",
        "attention_output = A @ V\n",
        "\n",
        "print(\"Attention weights A =\", A)\n",
        "print(\"Self-Attention output =\", attention_output)\n"
      ],
      "metadata": {
        "colab": {
          "base_uri": "https://localhost:8080/"
        },
        "id": "m3uPkJX9vTDW",
        "outputId": "44260e57-f1af-48a3-988d-080579ac0850"
      },
      "execution_count": 4,
      "outputs": [
        {
          "output_type": "stream",
          "name": "stdout",
          "text": [
            "Q = [[1 2 2]\n",
            " [2 0 4]\n",
            " [1 2 4]]\n",
            "K = [[1 2 1]\n",
            " [2 2 2]\n",
            " [3 2 1]]\n",
            "V = [[2 1 1]\n",
            " [1 2 0]\n",
            " [1 1 1]]\n",
            "Attention weights A = [[0.10177799 0.575273   0.32294901]\n",
            " [0.02324709 0.74269209 0.23406082]\n",
            " [0.04523245 0.81124169 0.14352586]]\n",
            "Self-Attention output = [[1.10177799 1.575273   0.424727  ]\n",
            " [1.02324709 1.74269209 0.25730791]\n",
            " [1.04523245 1.81124169 0.18875831]]\n"
          ]
        }
      ]
    },
    {
      "cell_type": "markdown",
      "source": [
        "##驗證"
      ],
      "metadata": {
        "id": "3CkO_PchvsKc"
      }
    },
    {
      "cell_type": "code",
      "source": [
        "q1 = x1 @ W_Q\n",
        "k1 = x1 @ W_K\n",
        "v1 = x1 @ W_V\n",
        "\n",
        "print(\"q1:\", q1)\n",
        "print(\"Q[0]:\", Q[0])\n",
        "print(\"驗證 q1 是否等於 Q[0]:\", np.allclose(q1, Q[0]))\n"
      ],
      "metadata": {
        "colab": {
          "base_uri": "https://localhost:8080/"
        },
        "id": "ll9-H_xDvu13",
        "outputId": "407cd38d-5fed-4b31-e5b9-51a21e29f620"
      },
      "execution_count": 5,
      "outputs": [
        {
          "output_type": "stream",
          "name": "stdout",
          "text": [
            "q1: [1 2 2]\n",
            "Q[0]: [1 2 2]\n",
            "驗證 q1 是否等於 Q[0]: True\n"
          ]
        }
      ]
    }
  ]
}