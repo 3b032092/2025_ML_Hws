{
  "nbformat": 4,
  "nbformat_minor": 0,
  "metadata": {
    "colab": {
      "provenance": [],
      "authorship_tag": "ABX9TyNIeplGJgkmMeD4KmR07Eem",
      "include_colab_link": true
    },
    "kernelspec": {
      "name": "python3",
      "display_name": "Python 3"
    },
    "language_info": {
      "name": "python"
    }
  },
  "cells": [
    {
      "cell_type": "markdown",
      "metadata": {
        "id": "view-in-github",
        "colab_type": "text"
      },
      "source": [
        "<a href=\"https://colab.research.google.com/github/3b032092/2025_ML_Hws/blob/main/hw1.ipynb\" target=\"_parent\"><img src=\"https://colab.research.google.com/assets/colab-badge.svg\" alt=\"Open In Colab\"/></a>"
      ]
    },
    {
      "cell_type": "markdown",
      "source": [
        "#第一題"
      ],
      "metadata": {
        "id": "cZ5B1f2eCfs6"
      }
    },
    {
      "cell_type": "code",
      "source": [
        "import numpy as np"
      ],
      "metadata": {
        "id": "mhO3TaeBG9zQ"
      },
      "execution_count": 6,
      "outputs": []
    },
    {
      "cell_type": "markdown",
      "source": [
        "## 激活函數"
      ],
      "metadata": {
        "id": "3ejm7QntMlHV"
      }
    },
    {
      "cell_type": "code",
      "source": [
        "def relu(x):\n",
        "    return np.maximum(0, x)\n",
        "\n",
        "def sigmoid(x):\n",
        "    return 1 / (1 + np.exp(-x))\n",
        "\n",
        "def softmax(x):\n",
        "    exp_x = np.exp(x - np.max(x))  # 避免溢出\n",
        "    return exp_x / exp_x.sum(axis=0)"
      ],
      "metadata": {
        "id": "RInFNbo0MreE"
      },
      "execution_count": 7,
      "outputs": []
    },
    {
      "cell_type": "markdown",
      "source": [
        "## 設定輸入層"
      ],
      "metadata": {
        "id": "WFKBkRKqMvQd"
      }
    },
    {
      "cell_type": "code",
      "source": [
        "x = np.array([0.5, 0.3, 0.8, 0.2, 0.6, 0.1])  # 6個特徵值\n",
        "print(f\"輸入 x: {x}\")\n",
        "print(f\"x 的形狀: {x.shape}\")"
      ],
      "metadata": {
        "colab": {
          "base_uri": "https://localhost:8080/"
        },
        "id": "p6puPeoyMzOM",
        "outputId": "72cbfb36-de0a-49f1-bc00-9bc1dbc5e4fc"
      },
      "execution_count": 8,
      "outputs": [
        {
          "output_type": "stream",
          "name": "stdout",
          "text": [
            "輸入 x: [0.5 0.3 0.8 0.2 0.6 0.1]\n",
            "x 的形狀: (6,)\n"
          ]
        }
      ]
    },
    {
      "cell_type": "markdown",
      "source": [
        "## 第一隱藏層 (5 個神經元)"
      ],
      "metadata": {
        "id": "XVLPlfSbM3qE"
      }
    },
    {
      "cell_type": "code",
      "source": [
        "W1 = np.random.randn(6, 5)  # 輸入層到隱藏層 1 的權重矩陣，形狀 (6, 5)\n",
        "b1 = np.random.randn(5)     # 偏置，形狀 (5,)\n",
        "z1 = np.dot(x, W1) + b1     # 加權和\n",
        "h1 = relu(z1)               # 激活函數 (ReLU)\n",
        "print(f\"第一層加權和 z1: {z1}\")\n",
        "print(f\"第一層輸出 h1: {h1}\")"
      ],
      "metadata": {
        "colab": {
          "base_uri": "https://localhost:8080/"
        },
        "id": "iRVg3-i8M6s1",
        "outputId": "c8a0746a-637f-4dc2-d2af-4534400e2f78"
      },
      "execution_count": 9,
      "outputs": [
        {
          "output_type": "stream",
          "name": "stdout",
          "text": [
            "第一層加權和 z1: [ 2.36810755  3.14920178 -2.25723473  2.05406637 -0.16951073]\n",
            "第一層輸出 h1: [2.36810755 3.14920178 0.         2.05406637 0.        ]\n"
          ]
        }
      ]
    },
    {
      "cell_type": "markdown",
      "source": [
        "## 第二隱藏層 (4 個神經元)"
      ],
      "metadata": {
        "id": "xJat1Z-qM9uN"
      }
    },
    {
      "cell_type": "code",
      "source": [
        "W2 = np.random.randn(5, 4)  # 隱藏層 1 到隱藏層 2 的權重矩陣，形狀 (5, 4)\n",
        "b2 = np.random.randn(4)     # 偏置，形狀 (4,)\n",
        "z2 = np.dot(h1, W2) + b2    # 加權和\n",
        "h2 = relu(z2)               # 激活函數 (ReLU)\n",
        "print(f\"第二層加權和 z2: {z2}\")\n",
        "print(f\"第二層輸出 h2: {h2}\")"
      ],
      "metadata": {
        "colab": {
          "base_uri": "https://localhost:8080/"
        },
        "id": "N_UNzW2VNAiF",
        "outputId": "97b3d326-2f21-4e9e-ac81-7071af789949"
      },
      "execution_count": 10,
      "outputs": [
        {
          "output_type": "stream",
          "name": "stdout",
          "text": [
            "第二層加權和 z2: [ 0.28524595 -4.33812057  5.3522366   2.69128811]\n",
            "第二層輸出 h2: [0.28524595 0.         5.3522366  2.69128811]\n"
          ]
        }
      ]
    },
    {
      "cell_type": "markdown",
      "source": [
        "## 第三隱藏層 (4 個神經元)"
      ],
      "metadata": {
        "id": "qq1jrIpjNDO9"
      }
    },
    {
      "cell_type": "code",
      "source": [
        "W3 = np.random.randn(4, 4)  # 隱藏層 2 到隱藏層 3 的權重矩陣，形狀 (4, 4)\n",
        "b3 = np.random.randn(4)     # 偏置，形狀 (4,)\n",
        "z3 = np.dot(h2, W3) + b3    # 加權和\n",
        "h3 = sigmoid(z3)            # 激活函數 (Sigmoid)\n",
        "print(f\"第三層加權和 z3: {z3}\")\n",
        "print(f\"第三層輸出 h3: {h3}\")"
      ],
      "metadata": {
        "colab": {
          "base_uri": "https://localhost:8080/"
        },
        "id": "rfmaA9TLNHeN",
        "outputId": "2a4aae7b-d29b-458c-ee1d-bfee62c011d9"
      },
      "execution_count": 11,
      "outputs": [
        {
          "output_type": "stream",
          "name": "stdout",
          "text": [
            "第三層加權和 z3: [18.69847221 -0.91591623  9.17405004  8.49757237]\n",
            "第三層輸出 h3: [0.99999999 0.28579072 0.99989632 0.99979608]\n"
          ]
        }
      ]
    },
    {
      "cell_type": "markdown",
      "source": [
        "## 輸出層 (3 個神經元)"
      ],
      "metadata": {
        "id": "wsjjq-ysNLCU"
      }
    },
    {
      "cell_type": "code",
      "source": [
        "W4 = np.random.randn(4, 3)  # 隱藏層 3 到輸出層的權重矩陣，形狀 (4, 3)\n",
        "b4 = np.random.randn(3)     # 偏置，形狀 (3,)\n",
        "z4 = np.dot(h3, W4) + b4    # 加權和\n",
        "y_hat = softmax(z4)         # 激活函數 (Softmax)\n",
        "print(f\"輸出層加權和 z4: {z4}\")\n",
        "print(f\"輸出層預測結果 y_hat: {y_hat}\")"
      ],
      "metadata": {
        "colab": {
          "base_uri": "https://localhost:8080/"
        },
        "id": "7q1yGREBNR6k",
        "outputId": "6cbbc71b-8909-485c-c32f-7063a6cea350"
      },
      "execution_count": 12,
      "outputs": [
        {
          "output_type": "stream",
          "name": "stdout",
          "text": [
            "輸出層加權和 z4: [-0.23439802 -2.66557719 -1.01329054]\n",
            "輸出層預測結果 y_hat: [0.64647633 0.05684666 0.29667702]\n"
          ]
        }
      ]
    },
    {
      "cell_type": "markdown",
      "source": [
        "## 真實結果 (y)"
      ],
      "metadata": {
        "id": "MI_OC_TUNUzU"
      }
    },
    {
      "cell_type": "code",
      "source": [
        "y = np.array([0, 0, 1])  # x 屬於第 3 類，其他類別機率為 0"
      ],
      "metadata": {
        "id": "I9LjHRBkNXzc"
      },
      "execution_count": 13,
      "outputs": []
    },
    {
      "cell_type": "markdown",
      "source": [
        "## 計算交叉熵誤差"
      ],
      "metadata": {
        "id": "1qyylqQ8NdHE"
      }
    },
    {
      "cell_type": "code",
      "source": [
        "def cross_entropy_error(y_hat, y):\n",
        "    return -np.sum(y * np.log(y_hat + 1e-7))  # 加上小數避免 log(0)"
      ],
      "metadata": {
        "id": "vxKk_IpCNkYM"
      },
      "execution_count": 14,
      "outputs": []
    },
    {
      "cell_type": "markdown",
      "source": [
        "## 計算誤差"
      ],
      "metadata": {
        "id": "CjkbfM37Nnaj"
      }
    },
    {
      "cell_type": "code",
      "source": [
        "error = cross_entropy_error(y_hat, y)\n",
        "print(f\"交叉熵誤差: {error}\")"
      ],
      "metadata": {
        "colab": {
          "base_uri": "https://localhost:8080/"
        },
        "id": "tlDV-cRiNq1k",
        "outputId": "4b30e5b2-e9bf-4707-9c36-9aecc684dd92"
      },
      "execution_count": 15,
      "outputs": [
        {
          "output_type": "stream",
          "name": "stdout",
          "text": [
            "交叉熵誤差: 1.2151108810437994\n"
          ]
        }
      ]
    },
    {
      "cell_type": "markdown",
      "source": [
        "##第二題"
      ],
      "metadata": {
        "id": "H0h89C60Du-r"
      }
    },
    {
      "cell_type": "code",
      "source": [
        "!pip install --upgrade gradio"
      ],
      "metadata": {
        "id": "gCdCpM0uG-NI",
        "colab": {
          "base_uri": "https://localhost:8080/"
        },
        "outputId": "48233307-bbad-4011-c9d4-b38613332ff5"
      },
      "execution_count": 17,
      "outputs": [
        {
          "output_type": "stream",
          "name": "stdout",
          "text": [
            "Collecting gradio\n",
            "  Downloading gradio-5.22.0-py3-none-any.whl.metadata (16 kB)\n",
            "Collecting aiofiles<24.0,>=22.0 (from gradio)\n",
            "  Downloading aiofiles-23.2.1-py3-none-any.whl.metadata (9.7 kB)\n",
            "Requirement already satisfied: anyio<5.0,>=3.0 in /usr/local/lib/python3.11/dist-packages (from gradio) (3.7.1)\n",
            "Collecting fastapi<1.0,>=0.115.2 (from gradio)\n",
            "  Downloading fastapi-0.115.11-py3-none-any.whl.metadata (27 kB)\n",
            "Collecting ffmpy (from gradio)\n",
            "  Downloading ffmpy-0.5.0-py3-none-any.whl.metadata (3.0 kB)\n",
            "Collecting gradio-client==1.8.0 (from gradio)\n",
            "  Downloading gradio_client-1.8.0-py3-none-any.whl.metadata (7.1 kB)\n",
            "Collecting groovy~=0.1 (from gradio)\n",
            "  Downloading groovy-0.1.2-py3-none-any.whl.metadata (6.1 kB)\n",
            "Requirement already satisfied: httpx>=0.24.1 in /usr/local/lib/python3.11/dist-packages (from gradio) (0.28.1)\n",
            "Requirement already satisfied: huggingface-hub>=0.28.1 in /usr/local/lib/python3.11/dist-packages (from gradio) (0.28.1)\n",
            "Requirement already satisfied: jinja2<4.0 in /usr/local/lib/python3.11/dist-packages (from gradio) (3.1.6)\n",
            "Requirement already satisfied: markupsafe<4.0,>=2.0 in /usr/local/lib/python3.11/dist-packages (from gradio) (3.0.2)\n",
            "Requirement already satisfied: numpy<3.0,>=1.0 in /usr/local/lib/python3.11/dist-packages (from gradio) (2.0.2)\n",
            "Requirement already satisfied: orjson~=3.0 in /usr/local/lib/python3.11/dist-packages (from gradio) (3.10.15)\n",
            "Requirement already satisfied: packaging in /usr/local/lib/python3.11/dist-packages (from gradio) (24.2)\n",
            "Requirement already satisfied: pandas<3.0,>=1.0 in /usr/local/lib/python3.11/dist-packages (from gradio) (2.2.2)\n",
            "Requirement already satisfied: pillow<12.0,>=8.0 in /usr/local/lib/python3.11/dist-packages (from gradio) (11.1.0)\n",
            "Requirement already satisfied: pydantic>=2.0 in /usr/local/lib/python3.11/dist-packages (from gradio) (2.10.6)\n",
            "Collecting pydub (from gradio)\n",
            "  Downloading pydub-0.25.1-py2.py3-none-any.whl.metadata (1.4 kB)\n",
            "Collecting python-multipart>=0.0.18 (from gradio)\n",
            "  Downloading python_multipart-0.0.20-py3-none-any.whl.metadata (1.8 kB)\n",
            "Requirement already satisfied: pyyaml<7.0,>=5.0 in /usr/local/lib/python3.11/dist-packages (from gradio) (6.0.2)\n",
            "Collecting ruff>=0.9.3 (from gradio)\n",
            "  Downloading ruff-0.11.0-py3-none-manylinux_2_17_x86_64.manylinux2014_x86_64.whl.metadata (25 kB)\n",
            "Collecting safehttpx<0.2.0,>=0.1.6 (from gradio)\n",
            "  Downloading safehttpx-0.1.6-py3-none-any.whl.metadata (4.2 kB)\n",
            "Collecting semantic-version~=2.0 (from gradio)\n",
            "  Downloading semantic_version-2.10.0-py2.py3-none-any.whl.metadata (9.7 kB)\n",
            "Collecting starlette<1.0,>=0.40.0 (from gradio)\n",
            "  Downloading starlette-0.46.1-py3-none-any.whl.metadata (6.2 kB)\n",
            "Collecting tomlkit<0.14.0,>=0.12.0 (from gradio)\n",
            "  Downloading tomlkit-0.13.2-py3-none-any.whl.metadata (2.7 kB)\n",
            "Requirement already satisfied: typer<1.0,>=0.12 in /usr/local/lib/python3.11/dist-packages (from gradio) (0.15.2)\n",
            "Requirement already satisfied: typing-extensions~=4.0 in /usr/local/lib/python3.11/dist-packages (from gradio) (4.12.2)\n",
            "Collecting uvicorn>=0.14.0 (from gradio)\n",
            "  Downloading uvicorn-0.34.0-py3-none-any.whl.metadata (6.5 kB)\n",
            "Requirement already satisfied: fsspec in /usr/local/lib/python3.11/dist-packages (from gradio-client==1.8.0->gradio) (2024.10.0)\n",
            "Requirement already satisfied: websockets<16.0,>=10.0 in /usr/local/lib/python3.11/dist-packages (from gradio-client==1.8.0->gradio) (14.2)\n",
            "Requirement already satisfied: idna>=2.8 in /usr/local/lib/python3.11/dist-packages (from anyio<5.0,>=3.0->gradio) (3.10)\n",
            "Requirement already satisfied: sniffio>=1.1 in /usr/local/lib/python3.11/dist-packages (from anyio<5.0,>=3.0->gradio) (1.3.1)\n",
            "Requirement already satisfied: certifi in /usr/local/lib/python3.11/dist-packages (from httpx>=0.24.1->gradio) (2025.1.31)\n",
            "Requirement already satisfied: httpcore==1.* in /usr/local/lib/python3.11/dist-packages (from httpx>=0.24.1->gradio) (1.0.7)\n",
            "Requirement already satisfied: h11<0.15,>=0.13 in /usr/local/lib/python3.11/dist-packages (from httpcore==1.*->httpx>=0.24.1->gradio) (0.14.0)\n",
            "Requirement already satisfied: filelock in /usr/local/lib/python3.11/dist-packages (from huggingface-hub>=0.28.1->gradio) (3.17.0)\n",
            "Requirement already satisfied: requests in /usr/local/lib/python3.11/dist-packages (from huggingface-hub>=0.28.1->gradio) (2.32.3)\n",
            "Requirement already satisfied: tqdm>=4.42.1 in /usr/local/lib/python3.11/dist-packages (from huggingface-hub>=0.28.1->gradio) (4.67.1)\n",
            "Requirement already satisfied: python-dateutil>=2.8.2 in /usr/local/lib/python3.11/dist-packages (from pandas<3.0,>=1.0->gradio) (2.8.2)\n",
            "Requirement already satisfied: pytz>=2020.1 in /usr/local/lib/python3.11/dist-packages (from pandas<3.0,>=1.0->gradio) (2025.1)\n",
            "Requirement already satisfied: tzdata>=2022.7 in /usr/local/lib/python3.11/dist-packages (from pandas<3.0,>=1.0->gradio) (2025.1)\n",
            "Requirement already satisfied: annotated-types>=0.6.0 in /usr/local/lib/python3.11/dist-packages (from pydantic>=2.0->gradio) (0.7.0)\n",
            "Requirement already satisfied: pydantic-core==2.27.2 in /usr/local/lib/python3.11/dist-packages (from pydantic>=2.0->gradio) (2.27.2)\n",
            "Requirement already satisfied: click>=8.0.0 in /usr/local/lib/python3.11/dist-packages (from typer<1.0,>=0.12->gradio) (8.1.8)\n",
            "Requirement already satisfied: shellingham>=1.3.0 in /usr/local/lib/python3.11/dist-packages (from typer<1.0,>=0.12->gradio) (1.5.4)\n",
            "Requirement already satisfied: rich>=10.11.0 in /usr/local/lib/python3.11/dist-packages (from typer<1.0,>=0.12->gradio) (13.9.4)\n",
            "Requirement already satisfied: six>=1.5 in /usr/local/lib/python3.11/dist-packages (from python-dateutil>=2.8.2->pandas<3.0,>=1.0->gradio) (1.17.0)\n",
            "Requirement already satisfied: markdown-it-py>=2.2.0 in /usr/local/lib/python3.11/dist-packages (from rich>=10.11.0->typer<1.0,>=0.12->gradio) (3.0.0)\n",
            "Requirement already satisfied: pygments<3.0.0,>=2.13.0 in /usr/local/lib/python3.11/dist-packages (from rich>=10.11.0->typer<1.0,>=0.12->gradio) (2.18.0)\n",
            "Requirement already satisfied: charset-normalizer<4,>=2 in /usr/local/lib/python3.11/dist-packages (from requests->huggingface-hub>=0.28.1->gradio) (3.4.1)\n",
            "Requirement already satisfied: urllib3<3,>=1.21.1 in /usr/local/lib/python3.11/dist-packages (from requests->huggingface-hub>=0.28.1->gradio) (2.3.0)\n",
            "Requirement already satisfied: mdurl~=0.1 in /usr/local/lib/python3.11/dist-packages (from markdown-it-py>=2.2.0->rich>=10.11.0->typer<1.0,>=0.12->gradio) (0.1.2)\n",
            "Downloading gradio-5.22.0-py3-none-any.whl (46.2 MB)\n",
            "\u001b[2K   \u001b[90m━━━━━━━━━━━━━━━━━━━━━━━━━━━━━━━━━━━━━━━━\u001b[0m \u001b[32m46.2/46.2 MB\u001b[0m \u001b[31m13.9 MB/s\u001b[0m eta \u001b[36m0:00:00\u001b[0m\n",
            "\u001b[?25hDownloading gradio_client-1.8.0-py3-none-any.whl (322 kB)\n",
            "\u001b[2K   \u001b[90m━━━━━━━━━━━━━━━━━━━━━━━━━━━━━━━━━━━━━━━━\u001b[0m \u001b[32m322.2/322.2 kB\u001b[0m \u001b[31m16.9 MB/s\u001b[0m eta \u001b[36m0:00:00\u001b[0m\n",
            "\u001b[?25hDownloading aiofiles-23.2.1-py3-none-any.whl (15 kB)\n",
            "Downloading fastapi-0.115.11-py3-none-any.whl (94 kB)\n",
            "\u001b[2K   \u001b[90m━━━━━━━━━━━━━━━━━━━━━━━━━━━━━━━━━━━━━━━━\u001b[0m \u001b[32m94.9/94.9 kB\u001b[0m \u001b[31m4.9 MB/s\u001b[0m eta \u001b[36m0:00:00\u001b[0m\n",
            "\u001b[?25hDownloading groovy-0.1.2-py3-none-any.whl (14 kB)\n",
            "Downloading python_multipart-0.0.20-py3-none-any.whl (24 kB)\n",
            "Downloading ruff-0.11.0-py3-none-manylinux_2_17_x86_64.manylinux2014_x86_64.whl (11.3 MB)\n",
            "\u001b[2K   \u001b[90m━━━━━━━━━━━━━━━━━━━━━━━━━━━━━━━━━━━━━━━━\u001b[0m \u001b[32m11.3/11.3 MB\u001b[0m \u001b[31m83.2 MB/s\u001b[0m eta \u001b[36m0:00:00\u001b[0m\n",
            "\u001b[?25hDownloading safehttpx-0.1.6-py3-none-any.whl (8.7 kB)\n",
            "Downloading semantic_version-2.10.0-py2.py3-none-any.whl (15 kB)\n",
            "Downloading starlette-0.46.1-py3-none-any.whl (71 kB)\n",
            "\u001b[2K   \u001b[90m━━━━━━━━━━━━━━━━━━━━━━━━━━━━━━━━━━━━━━━━\u001b[0m \u001b[32m72.0/72.0 kB\u001b[0m \u001b[31m3.7 MB/s\u001b[0m eta \u001b[36m0:00:00\u001b[0m\n",
            "\u001b[?25hDownloading tomlkit-0.13.2-py3-none-any.whl (37 kB)\n",
            "Downloading uvicorn-0.34.0-py3-none-any.whl (62 kB)\n",
            "\u001b[2K   \u001b[90m━━━━━━━━━━━━━━━━━━━━━━━━━━━━━━━━━━━━━━━━\u001b[0m \u001b[32m62.3/62.3 kB\u001b[0m \u001b[31m3.5 MB/s\u001b[0m eta \u001b[36m0:00:00\u001b[0m\n",
            "\u001b[?25hDownloading ffmpy-0.5.0-py3-none-any.whl (6.0 kB)\n",
            "Downloading pydub-0.25.1-py2.py3-none-any.whl (32 kB)\n",
            "Installing collected packages: pydub, uvicorn, tomlkit, semantic-version, ruff, python-multipart, groovy, ffmpy, aiofiles, starlette, safehttpx, gradio-client, fastapi, gradio\n",
            "Successfully installed aiofiles-23.2.1 fastapi-0.115.11 ffmpy-0.5.0 gradio-5.22.0 gradio-client-1.8.0 groovy-0.1.2 pydub-0.25.1 python-multipart-0.0.20 ruff-0.11.0 safehttpx-0.1.6 semantic-version-2.10.0 starlette-0.46.1 tomlkit-0.13.2 uvicorn-0.34.0\n"
          ]
        }
      ]
    },
    {
      "cell_type": "code",
      "source": [
        "import numpy as np\n",
        "import gradio as gr"
      ],
      "metadata": {
        "id": "CDEo7cELOiOk"
      },
      "execution_count": 18,
      "outputs": []
    },
    {
      "cell_type": "markdown",
      "source": [
        "## 激活函數"
      ],
      "metadata": {
        "id": "hpBq2Dv0OoP0"
      }
    },
    {
      "cell_type": "code",
      "source": [
        "def relu(x):\n",
        "    return np.maximum(0, x)\n",
        "\n",
        "def sigmoid(x):\n",
        "    return 1 / (1 + np.exp(-x))\n",
        "\n",
        "def softmax(x):\n",
        "    exp_x = np.exp(x - np.max(x))  # 避免溢出\n",
        "    return exp_x / exp_x.sum(axis=0)"
      ],
      "metadata": {
        "id": "hIP78K56OrlD"
      },
      "execution_count": 19,
      "outputs": []
    },
    {
      "cell_type": "markdown",
      "source": [
        "## 神經網路 (DNN) 計算過程"
      ],
      "metadata": {
        "id": "BkTfZpQsOuYj"
      }
    },
    {
      "cell_type": "code",
      "source": [
        "def dnn(x):\n",
        "    # 第一隱藏層 (5 個神經元)\n",
        "    W1 = np.random.randn(6, 5)   # 輸入層到隱藏層 1 的權重矩陣，形狀 (6, 5)\n",
        "    b1 = np.random.randn(5)     # 偏置，形狀 (5,)\n",
        "    z1 = np.dot(x, W1) + b1    # 加權和\n",
        "    h1 = relu(z1)          # 激活函數 (ReLU)\n",
        "\n",
        "    # 第二隱藏層 (4 個神經元)\n",
        "    W2 = np.random.randn(5, 4)   # 隱藏層 1 到隱藏層 2 的權重矩陣，形狀 (5, 4)\n",
        "    b2 = np.random.randn(4)     # 偏置，形狀 (4,)\n",
        "    z2 = np.dot(h1, W2) + b2   # 加權和\n",
        "    h2 = relu(z2)          # 激活函數 (ReLU)\n",
        "\n",
        "    # 第三隱藏層 (4 個神經元)\n",
        "    W3 = np.random.randn(4, 4)   # 隱藏層 2 到隱藏層 3 的權重矩陣，形狀 (4, 4)\n",
        "    b3 = np.random.randn(4)     # 偏置，形狀 (4,)\n",
        "    z3 = np.dot(h2, W3) + b3   # 加權和\n",
        "    h3 = sigmoid(z3)         # 激活函數 (Sigmoid)\n",
        "\n",
        "    # 輸出層 (3 個神經元)\n",
        "    W4 = np.random.randn(4, 3)   # 隱藏層 3 到輸出層的權重矩陣，形狀 (4, 3)\n",
        "    b4 = np.random.randn(3)     # 偏置，形狀 (3,)\n",
        "    z4 = np.dot(h3, W4) + b4   # 加權和\n",
        "    y_hat = softmax(z4)       # 激活函數 (Softmax)\n",
        "\n",
        "    return y_hat"
      ],
      "metadata": {
        "id": "AIJUV6YBQdez"
      },
      "execution_count": 33,
      "outputs": []
    },
    {
      "cell_type": "markdown",
      "source": [
        "## 交叉熵誤差函數"
      ],
      "metadata": {
        "id": "rJZRhzt3Q2ia"
      }
    },
    {
      "cell_type": "code",
      "source": [
        "def cross_entropy_error(y_hat, y):\n",
        "    return -np.sum(y * np.log(y_hat + 1e-7))  # 加上小數避免 log(0)"
      ],
      "metadata": {
        "id": "Isdj_GE5Q6Na"
      },
      "execution_count": 34,
      "outputs": []
    },
    {
      "cell_type": "markdown",
      "source": [
        "## 定義一組樣本資料 x 進行測試"
      ],
      "metadata": {
        "id": "PLECIcz8Q9S6"
      }
    },
    {
      "cell_type": "code",
      "source": [
        "x_test = np.array([0.5, 0.3, 0.8, 0.2, 0.6, 0.1])"
      ],
      "metadata": {
        "id": "MbbCe7eKQ84y"
      },
      "execution_count": 35,
      "outputs": []
    },
    {
      "cell_type": "markdown",
      "source": [
        "## 計算 dnn(x) 的結果"
      ],
      "metadata": {
        "id": "HuKQuCHTRDND"
      }
    },
    {
      "cell_type": "code",
      "source": [
        "y_hat_test = dnn(x_test)\n",
        "print(f\"測試結果 y_hat: {y_hat_test}\")"
      ],
      "metadata": {
        "colab": {
          "base_uri": "https://localhost:8080/"
        },
        "id": "as709uM1RFli",
        "outputId": "15353a55-ff58-4394-8715-97d0a468faa6"
      },
      "execution_count": 36,
      "outputs": [
        {
          "output_type": "stream",
          "name": "stdout",
          "text": [
            "測試結果 y_hat: [0.87224374 0.10502525 0.02273101]\n"
          ]
        }
      ]
    },
    {
      "cell_type": "markdown",
      "source": [
        "## 真實結果 (y)"
      ],
      "metadata": {
        "id": "MaX410SrRIN6"
      }
    },
    {
      "cell_type": "code",
      "source": [
        "y_true = np.array([0, 0, 1])  # 代表 x 屬於第 3 類"
      ],
      "metadata": {
        "id": "UEcuDX0qRKZq"
      },
      "execution_count": 37,
      "outputs": []
    },
    {
      "cell_type": "markdown",
      "source": [
        "## 計算交叉熵誤差"
      ],
      "metadata": {
        "id": "_pYLjesQRMkS"
      }
    },
    {
      "cell_type": "code",
      "source": [
        "error = cross_entropy_error(y_hat_test, y_true)\n",
        "print(f\"交叉熵誤差: {error}\")"
      ],
      "metadata": {
        "colab": {
          "base_uri": "https://localhost:8080/"
        },
        "id": "xxNECqVuRPsa",
        "outputId": "26fdabd0-22a0-48eb-ea7c-26b24118db3a"
      },
      "execution_count": 38,
      "outputs": [
        {
          "output_type": "stream",
          "name": "stdout",
          "text": [
            "交叉熵誤差: 3.7840210195742934\n"
          ]
        }
      ]
    },
    {
      "cell_type": "markdown",
      "source": [
        "## Gradio 介面設計"
      ],
      "metadata": {
        "id": "TrgJxzOGRR-y"
      }
    },
    {
      "cell_type": "code",
      "source": [
        "def predict_class(x):\n",
        "    # 轉換為 numpy array 格式\n",
        "    x = np.array(x)\n",
        "    # 計算 DNN 輸出\n",
        "    y_hat = dnn(x)\n",
        "    # 找到機率最高的類別\n",
        "    predicted_class = np.argmax(y_hat)\n",
        "    return f\"預測結果：類別 {predicted_class + 1}\""
      ],
      "metadata": {
        "id": "kWdoBc9qRWtS"
      },
      "execution_count": 39,
      "outputs": []
    },
    {
      "cell_type": "markdown",
      "source": [
        "## 建立 Gradio 介面"
      ],
      "metadata": {
        "id": "bZbbdIk3RX4j"
      }
    },
    {
      "cell_type": "code",
      "source": [
        "interface = gr.Interface(\n",
        "    fn=predict_class,\n",
        "    inputs=gr.Textbox(label=\"輸入資料 x\", placeholder=\"請輸入 6 個特徵值 (以逗號分隔)\", lines=1),\n",
        "    outputs=\"text\",\n",
        "    live=True\n",
        ")"
      ],
      "metadata": {
        "id": "0Zzvk9DSRbIi"
      },
      "execution_count": 41,
      "outputs": []
    },
    {
      "cell_type": "markdown",
      "source": [
        "## 啟動 Gradio 介面，並設定 share=True"
      ],
      "metadata": {
        "id": "Jcv9-YWMR5jT"
      }
    },
    {
      "cell_type": "code",
      "source": [
        "interface.launch(inbrowser=False, share=True)"
      ],
      "metadata": {
        "colab": {
          "base_uri": "https://localhost:8080/",
          "height": 591
        },
        "id": "wuzCwLRkR7PR",
        "outputId": "b0f4bc22-6dc2-4955-e3bd-fe96b8b09b16"
      },
      "execution_count": 42,
      "outputs": [
        {
          "output_type": "stream",
          "name": "stdout",
          "text": [
            "Colab notebook detected. To show errors in colab notebook, set debug=True in launch()\n",
            "* Running on public URL: https://0b470e21ce110b9525.gradio.live\n",
            "\n",
            "This share link expires in 72 hours. For free permanent hosting and GPU upgrades, run `gradio deploy` from the terminal in the working directory to deploy to Hugging Face Spaces (https://huggingface.co/spaces)\n"
          ]
        },
        {
          "output_type": "display_data",
          "data": {
            "text/plain": [
              "<IPython.core.display.HTML object>"
            ],
            "text/html": [
              "<div><iframe src=\"https://0b470e21ce110b9525.gradio.live\" width=\"100%\" height=\"500\" allow=\"autoplay; camera; microphone; clipboard-read; clipboard-write;\" frameborder=\"0\" allowfullscreen></iframe></div>"
            ]
          },
          "metadata": {}
        },
        {
          "output_type": "execute_result",
          "data": {
            "text/plain": []
          },
          "metadata": {},
          "execution_count": 42
        }
      ]
    }
  ]
}