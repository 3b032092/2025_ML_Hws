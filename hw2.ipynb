{
  "nbformat": 4,
  "nbformat_minor": 0,
  "metadata": {
    "colab": {
      "provenance": [],
      "authorship_tag": "ABX9TyM2VtEAozXvLEs/xmgoRj2D",
      "include_colab_link": true
    },
    "kernelspec": {
      "name": "python3",
      "display_name": "Python 3"
    },
    "language_info": {
      "name": "python"
    }
  },
  "cells": [
    {
      "cell_type": "markdown",
      "metadata": {
        "id": "view-in-github",
        "colab_type": "text"
      },
      "source": [
        "<a href=\"https://colab.research.google.com/github/3b032092/2025_ML_Hws/blob/main/hw2.ipynb\" target=\"_parent\"><img src=\"https://colab.research.google.com/assets/colab-badge.svg\" alt=\"Open In Colab\"/></a>"
      ]
    },
    {
      "cell_type": "markdown",
      "source": [
        "#第一題"
      ],
      "metadata": {
        "id": "kDGyFZ__Tdoj"
      }
    },
    {
      "cell_type": "code",
      "execution_count": 1,
      "metadata": {
        "id": "RzbH4uA9TRR0"
      },
      "outputs": [],
      "source": [
        "import numpy as np"
      ]
    },
    {
      "cell_type": "markdown",
      "source": [
        "## 定義激活函數"
      ],
      "metadata": {
        "id": "0-ZX68SxTjIp"
      }
    },
    {
      "cell_type": "code",
      "source": [
        "def sigmoid(x):\n",
        "    return 1 / (1 + np.exp(-x))\n",
        "\n",
        "def relu(x):\n",
        "    return np.maximum(0, x)\n",
        "\n",
        "def softmax(x):\n",
        "    x = x - np.max(x, axis=-1, keepdims=True)  # 避免溢出\n",
        "    return np.exp(x) / np.sum(np.exp(x), axis=-1, keepdims=True)"
      ],
      "metadata": {
        "id": "k0Pv_0ZhTl9J"
      },
      "execution_count": 2,
      "outputs": []
    },
    {
      "cell_type": "markdown",
      "source": [
        "## 定義交叉熵誤差函數"
      ],
      "metadata": {
        "id": "j_lO5lGzTpRJ"
      }
    },
    {
      "cell_type": "code",
      "source": [
        "def cross_entropy_error(y, t):\n",
        "    if y.ndim == 1:\n",
        "        t = t.reshape(1, t.size)\n",
        "        y = y.reshape(1, y.size)\n",
        "\n",
        "    batch_size = y.shape[0]\n",
        "    return -np.sum(t * np.log(y + 1e-7)) / batch_size"
      ],
      "metadata": {
        "id": "vR1QelJ7TsOx"
      },
      "execution_count": 3,
      "outputs": []
    },
    {
      "cell_type": "markdown",
      "source": [
        "## 隨機生成五筆資料 X，每筆資料有6個特徵"
      ],
      "metadata": {
        "id": "z0Nsv3sDTuxx"
      }
    },
    {
      "cell_type": "code",
      "source": [
        "X = np.array([\n",
        "    [0.1, 0.2, 0.3, 0.4, 0.5, 0.6],\n",
        "    [0.5, 0.4, 0.3, 0.2, 0.1, 0.6],\n",
        "    [0.2, 0.3, 0.4, 0.5, 0.6, 0.1],\n",
        "    [0.6, 0.5, 0.4, 0.3, 0.2, 0.1],\n",
        "    [0.1, 0.3, 0.5, 0.4, 0.2, 0.6]\n",
        "])"
      ],
      "metadata": {
        "id": "5bx2og2BTx0J"
      },
      "execution_count": 4,
      "outputs": []
    },
    {
      "cell_type": "markdown",
      "source": [
        "## 真實標籤 Y"
      ],
      "metadata": {
        "id": "ahhm0YGRT1Cg"
      }
    },
    {
      "cell_type": "code",
      "source": [
        "Y = np.array([\n",
        "    [1, 0, 0],  # 第 1 類\n",
        "    [0, 1, 0],  # 第 2 類\n",
        "    [0, 0, 1],  # 第 3 類\n",
        "    [1, 0, 0],  # 第 1 類\n",
        "    [0, 0, 1]   # 第 3 類\n",
        "])"
      ],
      "metadata": {
        "id": "CtroIRFYT5qp"
      },
      "execution_count": 5,
      "outputs": []
    },
    {
      "cell_type": "markdown",
      "source": [
        "## 顯示 X 和 Y 的形狀"
      ],
      "metadata": {
        "id": "Vu2tqJH-T77I"
      }
    },
    {
      "cell_type": "code",
      "source": [
        "print(\"X 形狀:\", X.shape)\n",
        "print(\"Y 形狀:\", Y.shape)"
      ],
      "metadata": {
        "colab": {
          "base_uri": "https://localhost:8080/"
        },
        "id": "MxSOFNLnT_cw",
        "outputId": "98bdba1b-24f5-4a2b-9409-56d4f8897409"
      },
      "execution_count": 6,
      "outputs": [
        {
          "output_type": "stream",
          "name": "stdout",
          "text": [
            "X 形狀: (5, 6)\n",
            "Y 形狀: (5, 3)\n"
          ]
        }
      ]
    },
    {
      "cell_type": "markdown",
      "source": [
        "## 隨機初始化權重和偏置"
      ],
      "metadata": {
        "id": "HAPiYrxiUB45"
      }
    },
    {
      "cell_type": "code",
      "source": [
        "W1 = np.random.randn(6, 5)  # 輸入層到第一隱藏層 (6個特徵 -> 5個神經元)\n",
        "b1 = np.random.randn(5)\n",
        "W2 = np.random.randn(5, 4)  # 第一隱藏層到第二隱藏層 (5個神經元 -> 4個神經元)\n",
        "b2 = np.random.randn(4)\n",
        "W3 = np.random.randn(4, 4)  # 第二隱藏層到第三隱藏層 (4個神經元 -> 4個神經元)\n",
        "b3 = np.random.randn(4)\n",
        "W4 = np.random.randn(4, 3)  # 第三隱藏層到輸出層 (4個神經元 -> 3個輸出神經元)\n",
        "b4 = np.random.randn(3)"
      ],
      "metadata": {
        "id": "a5thIsESUEsB"
      },
      "execution_count": 7,
      "outputs": []
    },
    {
      "cell_type": "markdown",
      "source": [
        "## 第一層 (輸入到第一隱藏層)"
      ],
      "metadata": {
        "id": "OZoMQ6EiUIRw"
      }
    },
    {
      "cell_type": "code",
      "source": [
        "z1 = np.dot(X, W1) + b1\n",
        "h1 = relu(z1)"
      ],
      "metadata": {
        "id": "S1oIxjjfULQR"
      },
      "execution_count": 8,
      "outputs": []
    },
    {
      "cell_type": "markdown",
      "source": [
        "## 第二層 (第一隱藏層到第二隱藏層)"
      ],
      "metadata": {
        "id": "E747_0QKUNzR"
      }
    },
    {
      "cell_type": "code",
      "source": [
        "z2 = np.dot(h1, W2) + b2\n",
        "h2 = relu(z2)"
      ],
      "metadata": {
        "id": "4yxVZYA-UQTR"
      },
      "execution_count": 9,
      "outputs": []
    },
    {
      "cell_type": "markdown",
      "source": [
        "## 第三層 (第二隱藏層到第三隱藏層)"
      ],
      "metadata": {
        "id": "dDVqCz53US54"
      }
    },
    {
      "cell_type": "code",
      "source": [
        "z3 = np.dot(h2, W3) + b3\n",
        "h3 = sigmoid(z3)"
      ],
      "metadata": {
        "id": "fdN6YO1LUV-Q"
      },
      "execution_count": 10,
      "outputs": []
    },
    {
      "cell_type": "markdown",
      "source": [
        "## 輸出層"
      ],
      "metadata": {
        "id": "y5CTi1OIUYzA"
      }
    },
    {
      "cell_type": "code",
      "source": [
        "z4 = np.dot(h3, W4) + b4\n",
        "y_hat = softmax(z4)"
      ],
      "metadata": {
        "id": "4UvMQM7PUbwh"
      },
      "execution_count": 11,
      "outputs": []
    },
    {
      "cell_type": "markdown",
      "source": [
        "## 顯示各層的形狀"
      ],
      "metadata": {
        "id": "NTQ_aSTOUeAw"
      }
    },
    {
      "cell_type": "code",
      "source": [
        "print(\"第一層加權和 z1 形狀:\", z1.shape)\n",
        "print(\"第一層激活 h1 形狀:\", h1.shape)\n",
        "print(\"第二層加權和 z2 形狀:\", z2.shape)\n",
        "print(\"第二層激活 h2 形狀:\", h2.shape)\n",
        "print(\"第三層加權和 z3 形狀:\", z3.shape)\n",
        "print(\"第三層激活 h3 形狀:\", h3.shape)\n",
        "print(\"輸出層加權和 z4 形狀:\", z4.shape)\n",
        "print(\"輸出層 y_hat 形狀:\", y_hat.shape)"
      ],
      "metadata": {
        "colab": {
          "base_uri": "https://localhost:8080/"
        },
        "id": "UnjwlcTCUgk4",
        "outputId": "fd9a967e-06e1-4195-f7c6-962577424368"
      },
      "execution_count": 12,
      "outputs": [
        {
          "output_type": "stream",
          "name": "stdout",
          "text": [
            "第一層加權和 z1 形狀: (5, 5)\n",
            "第一層激活 h1 形狀: (5, 5)\n",
            "第二層加權和 z2 形狀: (5, 4)\n",
            "第二層激活 h2 形狀: (5, 4)\n",
            "第三層加權和 z3 形狀: (5, 4)\n",
            "第三層激活 h3 形狀: (5, 4)\n",
            "輸出層加權和 z4 形狀: (5, 3)\n",
            "輸出層 y_hat 形狀: (5, 3)\n"
          ]
        }
      ]
    },
    {
      "cell_type": "markdown",
      "source": [
        "## 計算交叉熵誤差"
      ],
      "metadata": {
        "id": "Xe2fnglZUkAp"
      }
    },
    {
      "cell_type": "code",
      "source": [
        "loss = cross_entropy_error(y_hat, Y)\n",
        "print(\"批次學習誤差 (交叉熵誤差):\", loss)"
      ],
      "metadata": {
        "colab": {
          "base_uri": "https://localhost:8080/"
        },
        "id": "qjxF9azuUo6o",
        "outputId": "9b005f2c-e48a-406a-e4a6-1d73221e1364"
      },
      "execution_count": 13,
      "outputs": [
        {
          "output_type": "stream",
          "name": "stdout",
          "text": [
            "批次學習誤差 (交叉熵誤差): 1.6466114181424902\n"
          ]
        }
      ]
    }
  ]
}